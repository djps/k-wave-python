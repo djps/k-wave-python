{
  "nbformat": 4,
  "nbformat_minor": 0,
  "metadata": {
    "colab": {
      "provenance": [],
      "authorship_tag": "ABX9TyMUoDFc4EBIJPP+kXcj+FkI",
      "include_colab_link": true
    },
    "kernelspec": {
      "name": "python3",
      "display_name": "Python 3"
    },
    "language_info": {
      "name": "python"
    }
  },
  "cells": [
    {
      "cell_type": "markdown",
      "metadata": {
        "id": "view-in-github",
        "colab_type": "text"
      },
      "source": [
        "<a href=\"https://colab.research.google.com/github/djps/k-wave-python/blob/pstdelastic3D/examples/test.ipynb\" target=\"_parent\"><img src=\"https://colab.research.google.com/assets/colab-badge.svg\" alt=\"Open In Colab\"/></a>"
      ]
    },
    {
      "cell_type": "code",
      "execution_count": null,
      "metadata": {
        "id": "SZInV3QfODP4"
      },
      "outputs": [],
      "source": [
        "!pip install k-wave-python\n",
        "\n",
        "import numpy as np\n",
        "import cupy as cp\n",
        "\n",
        "from kwave.data import Vector\n",
        "from kwave.kgrid import kWaveGrid\n",
        "\n",
        "def accelerated_fft_operation(ddx_k_shift_pos, x):\n",
        "    xp = cp.get_array_module(x)\n",
        "    x_fft = xp.fft.fft(x, axis=0)\n",
        "    result_fft = xp.multiply(ddx_k_shift_pos, x_fft)\n",
        "    result_ifft = xp.fft.ifft(result_fft, axis=0)\n",
        "    result_real =  xp.real(result_ifft)\n",
        "    return result_real\n",
        "\n",
        "Nx = 100\n",
        "Ny = 100\n",
        "\n",
        "grid_size_points = Vector([Nx, Ny])\n",
        "\n",
        "dx = 0.01\n",
        "dy = 0.01\n",
        "\n",
        "# vector of resolution of grid\n",
        "grid_spacing_meters = Vector([dx, dy])\n",
        "\n",
        "# create the k-space grid\n",
        "kgrid = kWaveGrid(grid_size_points, grid_spacing_meters)\n",
        "\n",
        "x_vec = np.arange(-5, 5, 0.5)\n",
        "ddx_k_shift_pos =  np.fft.ifftshift( 1j * kgrid.kx_vec )\n",
        "\n",
        "temp = np.ones_like(x_vec)\n",
        "\n",
        "# Assuming ddx_k_shift_pos and temp are numpy arrays, convert them to cupy arrays\n",
        "ddx_k_shift_pos_gpu = cp.asarray(ddx_k_shift_pos)\n",
        "temp_gpu = cp.asarray(temp)\n",
        "\n",
        "# Perform FFT, element-wise multiplication, and inverse FFT using CuPy on the GPU\n",
        "temp_fft_gpu = cp.fft.fft(temp_gpu, axis=0)\n",
        "result_fft_gpu = cp.multiply(ddx_k_shift_pos_gpu, temp_fft_gpu)\n",
        "result_ifft_gpu = cp.fft.ifft(result_fft_gpu, axis=0)\n",
        "result_real_gpu = cp.real(result_ifft_gpu)\n",
        "\n",
        "# Convert the result back to a NumPy array if necessary\n",
        "result_real = cp.asnumpy(result_real_gpu)\n",
        "\n",
        "result = accelerated_fft_operation(ddx_k_shift_pos, x)"
      ]
    }
  ]
}