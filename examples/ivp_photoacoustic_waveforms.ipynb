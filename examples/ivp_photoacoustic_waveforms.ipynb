{
 "cells": [
  {
   "cell_type": "code",
   "execution_count": 1,
   "id": "03d8529c-4174-4308-8bf8-33dda2021c5c",
   "metadata": {},
   "outputs": [],
   "source": [
    "import sys\n",
    "import numpy as np\n",
    "sys.path.insert(0, '../')\n",
    "from kwave.data import Vector\n",
    "from kwave.utils.kwave_array import kWaveArray\n",
    "from kwave.kgrid import kWaveGrid\n",
    "from kwave.kmedium import kWaveMedium\n",
    "from kwave.ksource import kSource\n",
    "from kwave.ksensor import kSensor\n",
    "from kwave.utils.data import scale_SI\n",
    "from kwave.utils.mapgen import make_disc\n",
    "from kwave.utils.signals import create_cw_signals\n",
    "from kwave.utils.filters import extract_amp_phase\n",
    "from kwave.kspaceFirstOrder2D import kspaceFirstOrder2D\n",
    "from kwave.options import SimulationOptions, SimulationExecutionOptions"
   ]
  },
  {
   "cell_type": "code",
   "execution_count": 2,
   "id": "bdc877e3-ee21-44e9-adb0-5f11957a17a2",
   "metadata": {},
   "outputs": [
    {
     "name": "stdout",
     "output_type": "stream",
     "text": [
      "path_to_kwave: C:\\Users\\dsinden\\Documents\\GitHub\\k-wave-python\\kwave\n",
      "self.binary_path: C:\\Users\\dsinden\\Documents\\GitHub\\k-wave-python\\kwave\\bin\\windows\\kspaceFirstOrder-CUDA.exe\n"
     ]
    }
   ],
   "source": [
    "Nx = 64      # number of grid points in the x (row) direction\n",
    "\n",
    "x = 1e-3     # size of the domain in the x direction [m]\n",
    "\n",
    "dx = x / Nx  # grid point spacing in the x direction [m]\n",
    "\n",
    "medium = kWaveMedium(sound_speed=1500)\n",
    "\n",
    "# size of the initial pressure distribution\n",
    "source_radius = 2              # [grid points]\n",
    "\n",
    "# distance between the centre of the source and the sensor\n",
    "source_sensor_distance = 10    # [grid points]\n",
    "\n",
    "# time array\n",
    "dt = 2e-9                      # [s]\n",
    "t_end = 300e-9                 # [s]\n",
    "\n",
    "# create the k-space grid\n",
    "kgrid = kWaveGrid([Nx, Nx], [dx,dx])\n",
    "\n",
    "# create the time array using an integer number of points per period\n",
    "Nt: int = int(np.round(t_end / dt))\n",
    "kgrid.setTime(Nt, dt)\n",
    "\n",
    "# create instance of a sensor\n",
    "sensor = kSensor()\n",
    "\n",
    "# set sensor mask: the mask says at which points data should be recorded\n",
    "sensor.mask = np.zeros((Nx,Nx), dtype=bool)\n",
    "\n",
    "# define a single sensor point\n",
    "sensor.mask[Nx // 2 + source_sensor_distance, Nx // 2] = 1\n",
    "\n",
    "# set the record type: record the pressure waveform\n",
    "sensor.record = ['p']\n",
    "\n",
    "p0 = np.zeros((Nx, Nx))\n",
    "p0[Nx//2 - source_radius: Nx//2 + source_radius] = 1.0\n",
    "\n",
    "# make a source object\n",
    "source = kSource()\n",
    "source.p0 = make_disc(Vector([Nx, Nx]), Vector([Nx//2, Nx//2]), source_radius, plot_disc=False)\n",
    "\n",
    "simulation_options = SimulationOptions(\n",
    "    data_cast='single')\n",
    "\n",
    "execution_options = SimulationExecutionOptions(\n",
    "    is_gpu_simulation=True,\n",
    "    delete_data=False,\n",
    "    verbose_level=2)"
   ]
  },
  {
   "cell_type": "code",
   "execution_count": 3,
   "id": "5533e055-69df-436d-8dc4-cae02eb42482",
   "metadata": {},
   "outputs": [
    {
     "name": "stdout",
     "output_type": "stream",
     "text": [
      "Running k-Wave simulation...\n",
      "  start time: 21-Sep-2023-20-29-15\n",
      "  dt: 2ns, t_end: 298ns, time steps: 150\n",
      "  input grid size: 64 by 64 grid points (1.0 by 1.0)\n",
      "  maximum supported frequency: 48MHz\n",
      "  smoothing p0 distribution...\n"
     ]
    },
    {
     "ename": "AttributeError",
     "evalue": "'kWaveSimulation' object has no attribute 'sensor_x'",
     "output_type": "error",
     "traceback": [
      "\u001b[1;31m---------------------------------------------------------------------------\u001b[0m",
      "\u001b[1;31mAttributeError\u001b[0m                            Traceback (most recent call last)",
      "Cell \u001b[1;32mIn[3], line 2\u001b[0m\n\u001b[0;32m      1\u001b[0m \u001b[38;5;66;03m# run the simulation\u001b[39;00m\n\u001b[1;32m----> 2\u001b[0m sensor_data_2D \u001b[38;5;241m=\u001b[39m \u001b[43mkspaceFirstOrder2D\u001b[49m\u001b[43m(\u001b[49m\n\u001b[0;32m      3\u001b[0m \u001b[43m    \u001b[49m\u001b[43mmedium\u001b[49m\u001b[38;5;241;43m=\u001b[39;49m\u001b[43mmedium\u001b[49m\u001b[43m,\u001b[49m\n\u001b[0;32m      4\u001b[0m \u001b[43m    \u001b[49m\u001b[43mkgrid\u001b[49m\u001b[38;5;241;43m=\u001b[39;49m\u001b[43mkgrid\u001b[49m\u001b[43m,\u001b[49m\n\u001b[0;32m      5\u001b[0m \u001b[43m    \u001b[49m\u001b[43msource\u001b[49m\u001b[38;5;241;43m=\u001b[39;49m\u001b[43msource\u001b[49m\u001b[43m,\u001b[49m\n\u001b[0;32m      6\u001b[0m \u001b[43m    \u001b[49m\u001b[43msensor\u001b[49m\u001b[38;5;241;43m=\u001b[39;49m\u001b[43msensor\u001b[49m\u001b[43m,\u001b[49m\n\u001b[0;32m      7\u001b[0m \u001b[43m    \u001b[49m\u001b[43msimulation_options\u001b[49m\u001b[38;5;241;43m=\u001b[39;49m\u001b[43msimulation_options\u001b[49m\u001b[43m,\u001b[49m\n\u001b[0;32m      8\u001b[0m \u001b[43m    \u001b[49m\u001b[43mexecution_options\u001b[49m\u001b[38;5;241;43m=\u001b[39;49m\u001b[43mexecution_options\u001b[49m\u001b[43m)\u001b[49m\n",
      "File \u001b[1;32m~\\Documents\\GitHub\\k-wave-python\\examples\\..\\kwave\\kspaceFirstOrder2D.py:299\u001b[0m, in \u001b[0;36mkspaceFirstOrder2D\u001b[1;34m(kgrid, source, sensor, medium, simulation_options, execution_options)\u001b[0m\n\u001b[0;32m    290\u001b[0m TicToc\u001b[38;5;241m.\u001b[39mtic()\n\u001b[0;32m    292\u001b[0m k_sim \u001b[38;5;241m=\u001b[39m kWaveSimulation(\n\u001b[0;32m    293\u001b[0m     kgrid\u001b[38;5;241m=\u001b[39mkgrid,\n\u001b[0;32m    294\u001b[0m     source\u001b[38;5;241m=\u001b[39msource,\n\u001b[1;32m   (...)\u001b[0m\n\u001b[0;32m    297\u001b[0m     simulation_options\u001b[38;5;241m=\u001b[39msimulation_options\n\u001b[0;32m    298\u001b[0m )\n\u001b[1;32m--> 299\u001b[0m \u001b[43mk_sim\u001b[49m\u001b[38;5;241;43m.\u001b[39;49m\u001b[43minput_checking\u001b[49m\u001b[43m(\u001b[49m\u001b[38;5;124;43m'\u001b[39;49m\u001b[38;5;124;43mkspaceFirstOrder2D\u001b[39;49m\u001b[38;5;124;43m'\u001b[39;49m\u001b[43m)\u001b[49m\n\u001b[0;32m    301\u001b[0m \u001b[38;5;66;03m# =========================================================================\u001b[39;00m\n\u001b[0;32m    302\u001b[0m \u001b[38;5;66;03m# CALCULATE MEDIUM PROPERTIES ON STAGGERED GRID\u001b[39;00m\n\u001b[0;32m    303\u001b[0m \u001b[38;5;66;03m# =========================================================================\u001b[39;00m\n\u001b[0;32m    304\u001b[0m options \u001b[38;5;241m=\u001b[39m k_sim\u001b[38;5;241m.\u001b[39moptions\n",
      "File \u001b[1;32m~\\Documents\\GitHub\\k-wave-python\\examples\\..\\kwave\\kWaveSimulation.py:515\u001b[0m, in \u001b[0;36mkWaveSimulation.input_checking\u001b[1;34m(self, calling_func_name)\u001b[0m\n\u001b[0;32m    512\u001b[0m display_simulation_params(\u001b[38;5;28mself\u001b[39m\u001b[38;5;241m.\u001b[39mkgrid, \u001b[38;5;28mself\u001b[39m\u001b[38;5;241m.\u001b[39mmedium, is_elastic_code)\n\u001b[0;32m    514\u001b[0m \u001b[38;5;28mself\u001b[39m\u001b[38;5;241m.\u001b[39msmooth_and_enlarge(\u001b[38;5;28mself\u001b[39m\u001b[38;5;241m.\u001b[39msource, k_dim, Vector(\u001b[38;5;28mself\u001b[39m\u001b[38;5;241m.\u001b[39mkgrid\u001b[38;5;241m.\u001b[39mN), opt)\n\u001b[1;32m--> 515\u001b[0m \u001b[38;5;28;43mself\u001b[39;49m\u001b[38;5;241;43m.\u001b[39;49m\u001b[43mcreate_sensor_variables\u001b[49m\u001b[43m(\u001b[49m\u001b[43m)\u001b[49m\n\u001b[0;32m    517\u001b[0m \u001b[38;5;28mself\u001b[39m\u001b[38;5;241m.\u001b[39mcreate_absorption_vars()\n\u001b[0;32m    519\u001b[0m \u001b[38;5;28mself\u001b[39m\u001b[38;5;241m.\u001b[39massign_pseudonyms(\u001b[38;5;28mself\u001b[39m\u001b[38;5;241m.\u001b[39mmedium, \u001b[38;5;28mself\u001b[39m\u001b[38;5;241m.\u001b[39mkgrid)\n",
      "File \u001b[1;32m~\\Documents\\GitHub\\k-wave-python\\examples\\..\\kwave\\kWaveSimulation.py:1399\u001b[0m, in \u001b[0;36mkWaveSimulation.create_sensor_variables\u001b[1;34m(self)\u001b[0m\n\u001b[0;32m   1396\u001b[0m \u001b[38;5;66;03m# run subscript to create storage variables if not saving to disk\u001b[39;00m\n\u001b[0;32m   1397\u001b[0m \u001b[38;5;66;03m# TODO (Walter): this case is very broken but save to disk is currently always true!\u001b[39;00m\n\u001b[0;32m   1398\u001b[0m \u001b[38;5;28;01mif\u001b[39;00m \u001b[38;5;28mself\u001b[39m\u001b[38;5;241m.\u001b[39muse_sensor \u001b[38;5;129;01mand\u001b[39;00m \u001b[38;5;129;01mnot\u001b[39;00m \u001b[38;5;28mself\u001b[39m\u001b[38;5;241m.\u001b[39moptions\u001b[38;5;241m.\u001b[39msave_to_disk:\n\u001b[1;32m-> 1399\u001b[0m     \u001b[38;5;28;01mif\u001b[39;00m \u001b[38;5;28;43mself\u001b[39;49m\u001b[38;5;241;43m.\u001b[39;49m\u001b[43msensor_x\u001b[49m \u001b[38;5;129;01mis\u001b[39;00m \u001b[38;5;129;01mnot\u001b[39;00m \u001b[38;5;28;01mNone\u001b[39;00m:\n\u001b[0;32m   1400\u001b[0m         \u001b[38;5;28mprint\u001b[39m(\u001b[38;5;28mself\u001b[39m\u001b[38;5;241m.\u001b[39msensor_x)\n\u001b[0;32m   1401\u001b[0m     \u001b[38;5;28;01melse\u001b[39;00m:\n",
      "\u001b[1;31mAttributeError\u001b[0m: 'kWaveSimulation' object has no attribute 'sensor_x'"
     ]
    }
   ],
   "source": [
    "# run the simulation\n",
    "sensor_data_2D = kspaceFirstOrder2D(\n",
    "    medium=medium,\n",
    "    kgrid=kgrid,\n",
    "    source=source,\n",
    "    sensor=sensor,\n",
    "    simulation_options=simulation_options,\n",
    "    execution_options=execution_options)"
   ]
  },
  {
   "cell_type": "code",
   "execution_count": null,
   "id": "f390043d-3b1d-4137-9462-750b82a97bb8",
   "metadata": {},
   "outputs": [],
   "source": [
    "print(dir(sensor_data_2D), sensor_data_2D)\n",
    "t_sc, t_scale, t_prefix, _ = scale_SI(t_end)\n",
    "import matplotlib.pyplot as plt\n",
    "_, ax1 = plt.subplots()\n",
    "ax1.plot(kgrid.t_array * t_scale, sensor_data_2D / np.max(np.abs(sensor_data_2D)), 'r-')\n",
    "ax1.set(xlabel= f\"Time [{t_prefix}s]\", ylabel='Recorded Pressure [au]')\n",
    "ax1.grid(True)\n",
    "plt.show()"
   ]
  },
  {
   "cell_type": "code",
   "execution_count": null,
   "id": "fa7f2de8-d409-444c-85bb-2823848f2f20",
   "metadata": {},
   "outputs": [],
   "source": []
  }
 ],
 "metadata": {
  "kernelspec": {
   "display_name": "Python 3 (ipykernel)",
   "language": "python",
   "name": "python3"
  },
  "language_info": {
   "codemirror_mode": {
    "name": "ipython",
    "version": 3
   },
   "file_extension": ".py",
   "mimetype": "text/x-python",
   "name": "python",
   "nbconvert_exporter": "python",
   "pygments_lexer": "ipython3",
   "version": "3.10.11"
  }
 },
 "nbformat": 4,
 "nbformat_minor": 5
}
