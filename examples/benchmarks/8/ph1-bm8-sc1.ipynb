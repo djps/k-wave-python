{
  "nbformat": 4,
  "nbformat_minor": 0,
  "metadata": {
    "colab": {
      "provenance": [],
      "gpuType": "T4",
      "authorship_tag": "ABX9TyMnFm1D4aYuMY8nHEiDJLVr",
      "include_colab_link": true
    },
    "kernelspec": {
      "name": "python3",
      "display_name": "Python 3"
    },
    "language_info": {
      "name": "python"
    },
    "accelerator": "GPU"
  },
  "cells": [
    {
      "cell_type": "markdown",
      "metadata": {
        "id": "view-in-github",
        "colab_type": "text"
      },
      "source": [
        "<a href=\"https://colab.research.google.com/github/djps/k-wave-python/blob/benchmarks/examples/benchmarks/8/ph1-bm8-sc1.ipynb\" target=\"_parent\"><img src=\"https://colab.research.google.com/assets/colab-badge.svg\" alt=\"Open In Colab\"/></a>"
      ]
    },
    {
      "cell_type": "code",
      "execution_count": 1,
      "metadata": {
        "colab": {
          "base_uri": "https://localhost:8080/",
          "height": 1000
        },
        "id": "Tke5dl-DsUsg",
        "outputId": "22315abc-2d73-49bf-ba03-c93d6d9a03dd"
      },
      "outputs": [
        {
          "output_type": "stream",
          "name": "stdout",
          "text": [
            "Collecting git+https://github.com/waltsims/k-wave-python\n",
            "  Cloning https://github.com/waltsims/k-wave-python to /tmp/pip-req-build-t22cjm9k\n",
            "  Running command git clone --filter=blob:none --quiet https://github.com/waltsims/k-wave-python /tmp/pip-req-build-t22cjm9k\n",
            "  Resolved https://github.com/waltsims/k-wave-python to commit d8f56f34eea9d1e68f72bce3708a9fc55f2fb71f\n",
            "  Installing build dependencies ... \u001b[?25l\u001b[?25hdone\n",
            "  Getting requirements to build wheel ... \u001b[?25l\u001b[?25hdone\n",
            "  Preparing metadata (pyproject.toml) ... \u001b[?25l\u001b[?25hdone\n",
            "Collecting beartype==0.16.4 (from k-Wave-python==0.3.2)\n",
            "  Downloading beartype-0.16.4-py3-none-any.whl (819 kB)\n",
            "\u001b[2K     \u001b[90m━━━━━━━━━━━━━━━━━━━━━━━━━━━━━━━━━━━━━━━━\u001b[0m \u001b[32m819.1/819.1 kB\u001b[0m \u001b[31m8.4 MB/s\u001b[0m eta \u001b[36m0:00:00\u001b[0m\n",
            "\u001b[?25hCollecting deepdiff==6.7.1 (from k-Wave-python==0.3.2)\n",
            "  Downloading deepdiff-6.7.1-py3-none-any.whl (76 kB)\n",
            "\u001b[2K     \u001b[90m━━━━━━━━━━━━━━━━━━━━━━━━━━━━━━━━━━━━━━━━\u001b[0m \u001b[32m76.6/76.6 kB\u001b[0m \u001b[31m9.6 MB/s\u001b[0m eta \u001b[36m0:00:00\u001b[0m\n",
            "\u001b[?25hCollecting h5py==3.10.0 (from k-Wave-python==0.3.2)\n",
            "  Downloading h5py-3.10.0-cp310-cp310-manylinux_2_17_x86_64.manylinux2014_x86_64.whl (4.8 MB)\n",
            "\u001b[2K     \u001b[90m━━━━━━━━━━━━━━━━━━━━━━━━━━━━━━━━━━━━━━━━\u001b[0m \u001b[32m4.8/4.8 MB\u001b[0m \u001b[31m45.2 MB/s\u001b[0m eta \u001b[36m0:00:00\u001b[0m\n",
            "\u001b[?25hCollecting matplotlib==3.8.3 (from k-Wave-python==0.3.2)\n",
            "  Downloading matplotlib-3.8.3-cp310-cp310-manylinux_2_17_x86_64.manylinux2014_x86_64.whl (11.6 MB)\n",
            "\u001b[2K     \u001b[90m━━━━━━━━━━━━━━━━━━━━━━━━━━━━━━━━━━━━━━━━\u001b[0m \u001b[32m11.6/11.6 MB\u001b[0m \u001b[31m50.3 MB/s\u001b[0m eta \u001b[36m0:00:00\u001b[0m\n",
            "\u001b[?25hCollecting nptyping==2.5.0 (from k-Wave-python==0.3.2)\n",
            "  Downloading nptyping-2.5.0-py3-none-any.whl (37 kB)\n",
            "Requirement already satisfied: numpy<1.27.0,>=1.22.2 in /usr/local/lib/python3.10/dist-packages (from k-Wave-python==0.3.2) (1.25.2)\n",
            "Collecting opencv-python==4.9.0.80 (from k-Wave-python==0.3.2)\n",
            "  Downloading opencv_python-4.9.0.80-cp37-abi3-manylinux_2_17_x86_64.manylinux2014_x86_64.whl (62.2 MB)\n",
            "\u001b[2K     \u001b[90m━━━━━━━━━━━━━━━━━━━━━━━━━━━━━━━━━━━━━━━━\u001b[0m \u001b[32m62.2/62.2 MB\u001b[0m \u001b[31m10.9 MB/s\u001b[0m eta \u001b[36m0:00:00\u001b[0m\n",
            "\u001b[?25hCollecting scipy==1.12.0 (from k-Wave-python==0.3.2)\n",
            "  Downloading scipy-1.12.0-cp310-cp310-manylinux_2_17_x86_64.manylinux2014_x86_64.whl (38.4 MB)\n",
            "\u001b[2K     \u001b[90m━━━━━━━━━━━━━━━━━━━━━━━━━━━━━━━━━━━━━━━━\u001b[0m \u001b[32m38.4/38.4 MB\u001b[0m \u001b[31m36.8 MB/s\u001b[0m eta \u001b[36m0:00:00\u001b[0m\n",
            "\u001b[?25hCollecting ordered-set<4.2.0,>=4.0.2 (from deepdiff==6.7.1->k-Wave-python==0.3.2)\n",
            "  Downloading ordered_set-4.1.0-py3-none-any.whl (7.6 kB)\n",
            "Requirement already satisfied: contourpy>=1.0.1 in /usr/local/lib/python3.10/dist-packages (from matplotlib==3.8.3->k-Wave-python==0.3.2) (1.2.0)\n",
            "Requirement already satisfied: cycler>=0.10 in /usr/local/lib/python3.10/dist-packages (from matplotlib==3.8.3->k-Wave-python==0.3.2) (0.12.1)\n",
            "Requirement already satisfied: fonttools>=4.22.0 in /usr/local/lib/python3.10/dist-packages (from matplotlib==3.8.3->k-Wave-python==0.3.2) (4.49.0)\n",
            "Requirement already satisfied: kiwisolver>=1.3.1 in /usr/local/lib/python3.10/dist-packages (from matplotlib==3.8.3->k-Wave-python==0.3.2) (1.4.5)\n",
            "Requirement already satisfied: packaging>=20.0 in /usr/local/lib/python3.10/dist-packages (from matplotlib==3.8.3->k-Wave-python==0.3.2) (23.2)\n",
            "Requirement already satisfied: pillow>=8 in /usr/local/lib/python3.10/dist-packages (from matplotlib==3.8.3->k-Wave-python==0.3.2) (9.4.0)\n",
            "Requirement already satisfied: pyparsing>=2.3.1 in /usr/local/lib/python3.10/dist-packages (from matplotlib==3.8.3->k-Wave-python==0.3.2) (3.1.1)\n",
            "Requirement already satisfied: python-dateutil>=2.7 in /usr/local/lib/python3.10/dist-packages (from matplotlib==3.8.3->k-Wave-python==0.3.2) (2.8.2)\n",
            "Requirement already satisfied: six>=1.5 in /usr/local/lib/python3.10/dist-packages (from python-dateutil>=2.7->matplotlib==3.8.3->k-Wave-python==0.3.2) (1.16.0)\n",
            "Building wheels for collected packages: k-Wave-python\n",
            "  Building wheel for k-Wave-python (pyproject.toml) ... \u001b[?25l\u001b[?25hdone\n",
            "  Created wheel for k-Wave-python: filename=k_wave_python-0.3.2-py3-none-any.whl size=212294 sha256=a5bb956eaa1b3f51f8ce6080d5de4f427587cf66e834c89aa0a8f92c7a805ed8\n",
            "  Stored in directory: /tmp/pip-ephem-wheel-cache-7hv56ps4/wheels/9c/e7/75/1ee18f2e10896620a69a984260456f0ba9e54bfdf0acc67e4d\n",
            "Successfully built k-Wave-python\n",
            "Installing collected packages: scipy, ordered-set, opencv-python, nptyping, h5py, beartype, matplotlib, deepdiff, k-Wave-python\n",
            "  Attempting uninstall: scipy\n",
            "    Found existing installation: scipy 1.11.4\n",
            "    Uninstalling scipy-1.11.4:\n",
            "      Successfully uninstalled scipy-1.11.4\n",
            "  Attempting uninstall: opencv-python\n",
            "    Found existing installation: opencv-python 4.8.0.76\n",
            "    Uninstalling opencv-python-4.8.0.76:\n",
            "      Successfully uninstalled opencv-python-4.8.0.76\n",
            "  Attempting uninstall: h5py\n",
            "    Found existing installation: h5py 3.9.0\n",
            "    Uninstalling h5py-3.9.0:\n",
            "      Successfully uninstalled h5py-3.9.0\n",
            "  Attempting uninstall: matplotlib\n",
            "    Found existing installation: matplotlib 3.7.1\n",
            "    Uninstalling matplotlib-3.7.1:\n",
            "      Successfully uninstalled matplotlib-3.7.1\n",
            "Successfully installed beartype-0.16.4 deepdiff-6.7.1 h5py-3.10.0 k-Wave-python-0.3.2 matplotlib-3.8.3 nptyping-2.5.0 opencv-python-4.9.0.80 ordered-set-4.1.0 scipy-1.12.0\n"
          ]
        },
        {
          "output_type": "display_data",
          "data": {
            "application/vnd.colab-display-data+json": {
              "pip_warning": {
                "packages": [
                  "matplotlib",
                  "mpl_toolkits"
                ]
              },
              "id": "cbfcd4b8b08b4af19943459542662fcd"
            }
          },
          "metadata": {}
        }
      ],
      "source": [
        "!pip install git+https://github.com/waltsims/k-wave-python"
      ]
    },
    {
      "cell_type": "code",
      "source": [
        "import numpy as np\n",
        "\n",
        "from copy import deepcopy\n",
        "import requests\n",
        "import shutil\n",
        "\n",
        "import logging\n",
        "import sys\n",
        "import matplotlib.pyplot as plt\n",
        "from mpl_toolkits.axes_grid1 import make_axes_locatable\n",
        "from cycler import cycler\n",
        "\n",
        "import h5py\n",
        "\n",
        "from skimage import measure\n",
        "from skimage.segmentation import find_boundaries\n",
        "from scipy.interpolate import interpn\n",
        "\n",
        "from kwave.data import Vector\n",
        "from kwave.utils.kwave_array import kWaveArray\n",
        "from kwave.utils.checks import check_stability\n",
        "from kwave.kgrid import kWaveGrid\n",
        "from kwave.kmedium import kWaveMedium\n",
        "from kwave.ksource import kSource\n",
        "from kwave.ksensor import kSensor\n",
        "from kwave.utils.signals import create_cw_signals\n",
        "from kwave.utils.filters import extract_amp_phase\n",
        "from kwave.kspaceFirstOrder3D import kspaceFirstOrder3DG\n",
        "\n",
        "from kwave.options.simulation_options import SimulationOptions\n",
        "from kwave.options.simulation_execution_options import SimulationExecutionOptions\n",
        "\n",
        "# create logger\n",
        "logger = logging.getLogger(__name__)\n",
        "logger.setLevel(logging.DEBUG)\n",
        "# create console and file handlers and set level to debug\n",
        "ch = logging.StreamHandler(sys.stdout)\n",
        "ch.setLevel(logging.DEBUG)\n",
        "fh = logging.FileHandler(filename='runner.log')\n",
        "fh.setLevel(logging.DEBUG)\n",
        "# create formatter\n",
        "formatter = logging.Formatter('%(asctime)s | %(name)s | %(levelname)s | %(message)s')\n",
        "# add formatter to ch, fh\n",
        "ch.setFormatter(formatter)\n",
        "fh.setFormatter(formatter)\n",
        "# add ch, fh to logger\n",
        "logger.addHandler(ch)\n",
        "logger.addHandler(fh)\n",
        "# propagate\n",
        "ch.propagate = True\n",
        "fh.propagate = True\n",
        "logger.propagate = True\n",
        "\n",
        "verbose: bool = True\n",
        "savePlotting: bool = True\n",
        "useMaxTimeStep: bool = True\n",
        "\n",
        "tag = 'bm8'\n",
        "res = '1mm'\n",
        "\n",
        "url = 'https://raw.githubusercontent.com/djps/k-wave-python/benchmarks/examples/benchmarks/8/skull_mask_bm8_dx_1mm.mat'\n",
        "mask_filename = requests.get(url, stream=True)\n",
        "mask_filename.raw.decode_content = True\n",
        "with open(\"temp.h5\", \"wb\") as _fh:\n",
        "    shutil.copyfileobj(mask_filename.raw, _fh)\n",
        "\n",
        "data = h5py.File(mask_filename, 'r')\n",
        "\n",
        "# is given in millimetres\n",
        "dx = data['dx'][:].item()\n",
        "\n",
        "# scale to metres\n",
        "dx = dx / 1000.0\n",
        "dy = dx\n",
        "dz = dx\n",
        "\n",
        "xi = np.squeeze(np.asarray(data['xi'][:]))\n",
        "yi = np.squeeze(np.asarray(data['yi'][:]))\n",
        "zi = np.squeeze(np.asarray(data['zi'][:]))\n",
        "\n",
        "matlab_shape = np.shape(xi)[0], np.shape(yi)[0], np.shape(zi)[0]\n",
        "\n",
        "skull_mask = np.squeeze(data['skull_mask'][:]).astype(bool)\n",
        "brain_mask = np.squeeze(data['brain_mask'][:]).astype(bool)\n",
        "\n",
        "skull_mask = np.reshape(skull_mask.flatten(), matlab_shape, order='F')\n",
        "brain_mask = np.reshape(brain_mask.flatten(), matlab_shape, order='F')\n",
        "\n",
        "water_mask = np.ones(skull_mask.shape, dtype=int) - (skull_mask.astype(int) + brain_mask.astype(int))\n",
        "water_mask = water_mask.astype(bool)\n",
        "\n",
        "skull_mask = np.swapaxes(skull_mask, 0, 2)\n",
        "brain_mask = np.swapaxes(brain_mask, 0, 2)\n",
        "water_mask = np.swapaxes(water_mask, 0, 2)\n",
        "\n",
        "Nx, Ny, Nz = skull_mask.shape\n",
        "\n",
        "focus = int(64 / data['dx'][:].item())\n",
        "\n",
        "focus_coords = [(Nx - 1) // 2, (Ny - 1) // 2, focus]\n",
        "\n",
        "bowl_coords = [(Nx - 1) // 2, (Ny - 1) // 2, 0]\n",
        "\n",
        "disc_coords = [(Nx-1) // 2, (Ny-1) // 2, 0]"
      ],
      "metadata": {
        "id": "8yA1bMzLsafy",
        "outputId": "af87ed30-8bb7-4aab-dd3a-6cc66a15e210",
        "colab": {
          "base_uri": "https://localhost:8080/",
          "height": 356
        }
      },
      "execution_count": 2,
      "outputs": [
        {
          "output_type": "error",
          "ename": "TypeError",
          "evalue": "expected str, bytes or os.PathLike object, not Response",
          "traceback": [
            "\u001b[0;31m---------------------------------------------------------------------------\u001b[0m",
            "\u001b[0;31mTypeError\u001b[0m                                 Traceback (most recent call last)",
            "\u001b[0;32m<ipython-input-2-e0533e6af795>\u001b[0m in \u001b[0;36m<cell line: 68>\u001b[0;34m()\u001b[0m\n\u001b[1;32m     66\u001b[0m     \u001b[0mshutil\u001b[0m\u001b[0;34m.\u001b[0m\u001b[0mcopyfileobj\u001b[0m\u001b[0;34m(\u001b[0m\u001b[0mmask_filename\u001b[0m\u001b[0;34m.\u001b[0m\u001b[0mraw\u001b[0m\u001b[0;34m,\u001b[0m \u001b[0m_fh\u001b[0m\u001b[0;34m)\u001b[0m\u001b[0;34m\u001b[0m\u001b[0;34m\u001b[0m\u001b[0m\n\u001b[1;32m     67\u001b[0m \u001b[0;34m\u001b[0m\u001b[0m\n\u001b[0;32m---> 68\u001b[0;31m \u001b[0mdata\u001b[0m \u001b[0;34m=\u001b[0m \u001b[0mh5py\u001b[0m\u001b[0;34m.\u001b[0m\u001b[0mFile\u001b[0m\u001b[0;34m(\u001b[0m\u001b[0mmask_filename\u001b[0m\u001b[0;34m,\u001b[0m \u001b[0;34m'r'\u001b[0m\u001b[0;34m)\u001b[0m\u001b[0;34m\u001b[0m\u001b[0;34m\u001b[0m\u001b[0m\n\u001b[0m\u001b[1;32m     69\u001b[0m \u001b[0;34m\u001b[0m\u001b[0m\n\u001b[1;32m     70\u001b[0m \u001b[0;31m# is given in millimetres\u001b[0m\u001b[0;34m\u001b[0m\u001b[0;34m\u001b[0m\u001b[0m\n",
            "\u001b[0;32m/usr/local/lib/python3.10/dist-packages/h5py/_hl/files.py\u001b[0m in \u001b[0;36m__init__\u001b[0;34m(self, name, mode, driver, libver, userblock_size, swmr, rdcc_nslots, rdcc_nbytes, rdcc_w0, track_order, fs_strategy, fs_persist, fs_threshold, fs_page_size, page_buf_size, min_meta_keep, min_raw_keep, locking, alignment_threshold, alignment_interval, meta_block_size, **kwds)\u001b[0m\n\u001b[1;32m    535\u001b[0m                 \u001b[0mname\u001b[0m \u001b[0;34m=\u001b[0m \u001b[0mrepr\u001b[0m\u001b[0;34m(\u001b[0m\u001b[0mname\u001b[0m\u001b[0;34m)\u001b[0m\u001b[0;34m.\u001b[0m\u001b[0mencode\u001b[0m\u001b[0;34m(\u001b[0m\u001b[0;34m'ASCII'\u001b[0m\u001b[0;34m,\u001b[0m \u001b[0;34m'replace'\u001b[0m\u001b[0;34m)\u001b[0m\u001b[0;34m\u001b[0m\u001b[0;34m\u001b[0m\u001b[0m\n\u001b[1;32m    536\u001b[0m             \u001b[0;32melse\u001b[0m\u001b[0;34m:\u001b[0m\u001b[0;34m\u001b[0m\u001b[0;34m\u001b[0m\u001b[0m\n\u001b[0;32m--> 537\u001b[0;31m                 \u001b[0mname\u001b[0m \u001b[0;34m=\u001b[0m \u001b[0mfilename_encode\u001b[0m\u001b[0;34m(\u001b[0m\u001b[0mname\u001b[0m\u001b[0;34m)\u001b[0m\u001b[0;34m\u001b[0m\u001b[0;34m\u001b[0m\u001b[0m\n\u001b[0m\u001b[1;32m    538\u001b[0m \u001b[0;34m\u001b[0m\u001b[0m\n\u001b[1;32m    539\u001b[0m             \u001b[0;32mif\u001b[0m \u001b[0mtrack_order\u001b[0m \u001b[0;32mis\u001b[0m \u001b[0;32mNone\u001b[0m\u001b[0;34m:\u001b[0m\u001b[0;34m\u001b[0m\u001b[0;34m\u001b[0m\u001b[0m\n",
            "\u001b[0;32m/usr/local/lib/python3.10/dist-packages/h5py/_hl/compat.py\u001b[0m in \u001b[0;36mfilename_encode\u001b[0;34m(filename)\u001b[0m\n\u001b[1;32m     17\u001b[0m     \u001b[0mfilenames\u001b[0m \u001b[0;32min\u001b[0m \u001b[0mh5py\u001b[0m \u001b[0;32mfor\u001b[0m \u001b[0mmore\u001b[0m \u001b[0minformation\u001b[0m\u001b[0;34m.\u001b[0m\u001b[0;34m\u001b[0m\u001b[0;34m\u001b[0m\u001b[0m\n\u001b[1;32m     18\u001b[0m     \"\"\"\n\u001b[0;32m---> 19\u001b[0;31m     \u001b[0mfilename\u001b[0m \u001b[0;34m=\u001b[0m \u001b[0mfspath\u001b[0m\u001b[0;34m(\u001b[0m\u001b[0mfilename\u001b[0m\u001b[0;34m)\u001b[0m\u001b[0;34m\u001b[0m\u001b[0;34m\u001b[0m\u001b[0m\n\u001b[0m\u001b[1;32m     20\u001b[0m     \u001b[0;32mif\u001b[0m \u001b[0msys\u001b[0m\u001b[0;34m.\u001b[0m\u001b[0mplatform\u001b[0m \u001b[0;34m==\u001b[0m \u001b[0;34m\"win32\"\u001b[0m\u001b[0;34m:\u001b[0m\u001b[0;34m\u001b[0m\u001b[0;34m\u001b[0m\u001b[0m\n\u001b[1;32m     21\u001b[0m         \u001b[0;32mif\u001b[0m \u001b[0misinstance\u001b[0m\u001b[0;34m(\u001b[0m\u001b[0mfilename\u001b[0m\u001b[0;34m,\u001b[0m \u001b[0mstr\u001b[0m\u001b[0;34m)\u001b[0m\u001b[0;34m:\u001b[0m\u001b[0;34m\u001b[0m\u001b[0;34m\u001b[0m\u001b[0m\n",
            "\u001b[0;31mTypeError\u001b[0m: expected str, bytes or os.PathLike object, not Response"
          ]
        }
      ]
    },
    {
      "cell_type": "code",
      "source": [
        "# =========================================================================\n",
        "# DEFINE THE MATERIAL PROPERTIES\n",
        "# =========================================================================\n",
        "\n",
        "# water\n",
        "sound_speed = 1500.0 * np.ones(skull_mask.shape)\n",
        "density = 1000.0 * np.ones(skull_mask.shape)\n",
        "alpha_coeff = np.zeros(skull_mask.shape)\n",
        "\n",
        "# non-dispersive\n",
        "alpha_power = 2.0\n",
        "\n",
        "# skull\n",
        "sound_speed[skull_mask] = 2800.0\n",
        "density[skull_mask] = 1850.0\n",
        "alpha_coeff[skull_mask] = 4.0\n",
        "\n",
        "# brain\n",
        "sound_speed[brain_mask] = 1560.0\n",
        "density[brain_mask] = 1040.0\n",
        "alpha_coeff[brain_mask] = 0.3\n",
        "\n",
        "c0_min = np.min(sound_speed.flatten())\n",
        "c0_max = np.min(sound_speed.flatten())\n",
        "\n",
        "medium = kWaveMedium(\n",
        "    sound_speed=sound_speed,\n",
        "    density=density,\n",
        "    alpha_coeff=alpha_coeff,\n",
        "    alpha_power=alpha_power\n",
        ")"
      ],
      "metadata": {
        "id": "oD3h4kmosyU7"
      },
      "execution_count": null,
      "outputs": []
    },
    {
      "cell_type": "code",
      "source": [
        "# bowl radius of curvature [m]\n",
        "source_roc = 64.0e-3\n",
        "\n",
        "# as we will use the bowl element this has to be a int or float\n",
        "diameters = 64.0e-3\n",
        "\n",
        "# frequency [Hz]\n",
        "freq = 500e3\n",
        "\n",
        "# source pressure [Pa]\n",
        "source_amp = np.array([60e3])\n",
        "\n",
        "# phase [rad]\n",
        "source_phase = np.array([0.0])"
      ],
      "metadata": {
        "id": "Jd73574-rfzi"
      },
      "execution_count": null,
      "outputs": []
    },
    {
      "cell_type": "code",
      "source": [
        "# wavelength\n",
        "k_min = c0_min / freq\n",
        "\n",
        "# points per wavelength\n",
        "ppw = k_min / dx\n",
        "\n",
        "# number of periods to record\n",
        "record_periods: int = 3\n",
        "\n",
        "# compute points per period\n",
        "ppp: int = 20\n",
        "\n",
        "# CFL number determines time step\n",
        "cfl = (ppw / ppp)"
      ],
      "metadata": {
        "id": "FZPiOBwMr5QO"
      },
      "execution_count": null,
      "outputs": []
    },
    {
      "cell_type": "code",
      "source": [
        "grid_size_points = Vector([Nx, Ny, Nz])\n",
        "\n",
        "grid_spacing_meters = Vector([dx, dy, dz])\n",
        "\n",
        "# create the k-space grid\n",
        "kgrid = kWaveGrid(grid_size_points, grid_spacing_meters)"
      ],
      "metadata": {
        "id": "DCdgqPsRsCxW"
      },
      "execution_count": null,
      "outputs": []
    },
    {
      "cell_type": "code",
      "source": [
        "# compute corresponding time stepping\n",
        "dt = 1.0 / (ppp * freq)\n",
        "\n",
        "# compute corresponding time stepping\n",
        "dt = (c0_min / c0_max) / (float(ppp) * freq)\n",
        "\n",
        "dt_stability_limit = check_stability(kgrid, medium)\n",
        "msg = \"dt_stability_limit=\" + str(dt_stability_limit) + \", dt=\" + str(dt)\n",
        "if verbose:\n",
        "    logger.info(msg)\n",
        "\n",
        "if (useMaxTimeStep and (not np.isfinite(dt_stability_limit)) and\n",
        "    (dt_stability_limit < dt)):\n",
        "    dt_old = dt\n",
        "    ppp = np.ceil( 1.0 / (dt_stability_limit * freq) )\n",
        "    dt = 1.0 / (ppp * freq)\n",
        "    if verbose:\n",
        "        logger.info(\"updated dt\")\n",
        "else:\n",
        "    if verbose:\n",
        "        logger.info(\"not updated dt\")\n",
        "\n",
        "\n",
        "# calculate the number of time steps to reach steady state\n",
        "t_end = np.sqrt(kgrid.x_size**2 + kgrid.y_size**2) / c0_min\n",
        "\n",
        "# create the time array using an integer number of points per period\n",
        "Nt = round(t_end / dt)\n",
        "\n",
        "# make time array\n",
        "kgrid.setTime(Nt, dt)\n",
        "\n",
        "# calculate the actual CFL after adjusting for dt\n",
        "cfl_actual = 1.0 / (dt * freq)"
      ],
      "metadata": {
        "id": "PSNLXqyesHlf"
      },
      "execution_count": null,
      "outputs": []
    },
    {
      "cell_type": "code",
      "source": [
        "# create empty kWaveArray this specfies the transducer properties\n",
        "karray = kWaveArray(bli_tolerance=0.01,\n",
        "                    upsampling_rate=16,\n",
        "                    single_precision=True)\n",
        "\n",
        "# set bowl position and orientation\n",
        "bowl_pos = [kgrid.x_vec[bowl_coords[0]].item(),\n",
        "            kgrid.y_vec[bowl_coords[1]].item(),\n",
        "            kgrid.z_vec[bowl_coords[2]].item()]\n",
        "\n",
        "focus_pos = [kgrid.x_vec[focus_coords[0]].item(),\n",
        "              kgrid.y_vec[focus_coords[1]].item(),\n",
        "              kgrid.z_vec[focus_coords[2]].item()]\n",
        "\n",
        "# add bowl shaped element\n",
        "karray.add_bowl_element(bowl_pos, source_roc, diameters, focus_pos)\n",
        "\n",
        "# create time varying source\n",
        "source_sig = create_cw_signals(np.squeeze(kgrid.t_array),\n",
        "                               freq,\n",
        "                               source_amp,\n",
        "                               source_phase)\n",
        "\n",
        "# make a source object.\n",
        "source = kSource()\n",
        "\n",
        "# assign binary mask using the karray\n",
        "source.p_mask = karray.get_array_binary_mask(kgrid)\n",
        "\n",
        "# assign source pressure output in time\n",
        "source.p = karray.get_distributed_source_signal(kgrid, source_sig)"
      ],
      "metadata": {
        "id": "ZJZDYFA0sIte"
      },
      "execution_count": null,
      "outputs": []
    },
    {
      "cell_type": "code",
      "source": [
        "sensor = kSensor()\n",
        "\n",
        "# set sensor mask: the mask says at which points data should be recorded\n",
        "sensor.mask = np.ones((Nx, Ny, Nz), dtype=bool)\n",
        "\n",
        "# set the record type: record the pressure waveform\n",
        "sensor.record = ['p']\n",
        "\n",
        "# record the final few periods when the field is in steady state\n",
        "sensor.record_start_index = kgrid.Nt - record_periods * ppp + 1"
      ],
      "metadata": {
        "id": "7Y_mZ3kYsQfI"
      },
      "execution_count": null,
      "outputs": []
    },
    {
      "cell_type": "code",
      "source": [
        "DATA_CAST = 'single'\n",
        "DATA_PATH = './'\n",
        "\n",
        "input_filename = tag + '_' + transducer + '_' + res + '_input.h5'\n",
        "output_filename = tag + '_' + transducer + '_' + res + '_output.h5'\n",
        "\n",
        "# set input options\n",
        "if verbose:\n",
        "    logger.info(\"simulation_options\")\n",
        "\n",
        "# options for writing to file, but not doing simulations\n",
        "simulation_options = SimulationOptions(\n",
        "    data_cast=DATA_CAST,\n",
        "    data_recast=True,\n",
        "    save_to_disk=True,\n",
        "    input_filename=input_filename,\n",
        "    output_filename=output_filename,\n",
        "    save_to_disk_exit=False,\n",
        "    data_path=DATA_PATH,\n",
        "    pml_inside=False)\n",
        "\n",
        "if verbose:\n",
        "    logger.info(\"execution_options\")\n",
        "\n",
        "execution_options = SimulationExecutionOptions(\n",
        "    is_gpu_simulation=True,\n",
        "    delete_data=False,\n",
        "    verbose_level=2)"
      ],
      "metadata": {
        "id": "UGq4y5L2sVTT"
      },
      "execution_count": null,
      "outputs": []
    },
    {
      "cell_type": "code",
      "source": [
        "sensor_data = kspaceFirstOrder3DG(\n",
        "    medium=medium,\n",
        "    kgrid=kgrid,\n",
        "    source=source,\n",
        "    sensor=sensor,\n",
        "    simulation_options=simulation_options,\n",
        "    execution_options=execution_options)"
      ],
      "metadata": {
        "id": "VS-cDCOAsuHP"
      },
      "execution_count": null,
      "outputs": []
    }
  ]
}