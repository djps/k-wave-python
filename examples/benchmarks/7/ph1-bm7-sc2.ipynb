{
  "nbformat": 4,
  "nbformat_minor": 0,
  "metadata": {
    "colab": {
      "provenance": [],
      "authorship_tag": "ABX9TyOSAFX/83YQKf8c51NdR0y4",
      "include_colab_link": true
    },
    "kernelspec": {
      "name": "python3",
      "display_name": "Python 3"
    },
    "language_info": {
      "name": "python"
    }
  },
  "cells": [
    {
      "cell_type": "markdown",
      "metadata": {
        "id": "view-in-github",
        "colab_type": "text"
      },
      "source": [
        "<a href=\"https://colab.research.google.com/github/djps/k-wave-python/blob/benchmarks/examples/benchmarks/7/ph1-bm7-sc2.ipynb\" target=\"_parent\"><img src=\"https://colab.research.google.com/assets/colab-badge.svg\" alt=\"Open In Colab\"/></a>"
      ]
    },
    {
      "cell_type": "code",
      "execution_count": null,
      "metadata": {
        "id": "MIx0Wj7lhBRi"
      },
      "outputs": [],
      "source": [
        "!pip install git+https://github.com/waltsims/k-wave-python"
      ]
    },
    {
      "cell_type": "code",
      "source": [
        "import numpy as np\n",
        "from copy import deepcopy\n",
        "import requests\n",
        "import shutil\n",
        "\n",
        "import matplotlib.pyplot as plt\n",
        "from mpl_toolkits.axes_grid1 import make_axes_locatable\n",
        "\n",
        "from matplotlib.colors import Normalize\n",
        "import matplotlib.cm as cm\n",
        "\n",
        "from cycler import cycler\n",
        "\n",
        "import h5py\n",
        "\n",
        "from skimage import measure\n",
        "from skimage.segmentation import find_boundaries\n",
        "from scipy.interpolate import interpn\n",
        "\n",
        "from kwave.data import Vector\n",
        "from kwave.utils.kwave_array import kWaveArray\n",
        "from kwave.utils.checks import check_stability\n",
        "from kwave.kgrid import kWaveGrid\n",
        "from kwave.kmedium import kWaveMedium\n",
        "from kwave.ksource import kSource\n",
        "from kwave.ksensor import kSensor\n",
        "from kwave.utils.signals import create_cw_signals\n",
        "from kwave.utils.filters import extract_amp_phase\n",
        "from kwave.kspaceFirstOrder3D import kspaceFirstOrder3DG\n",
        "\n",
        "from kwave.options.simulation_options import SimulationOptions\n",
        "from kwave.options.simulation_execution_options import SimulationExecutionOptions\n",
        "\n",
        "verbose: bool = True\n",
        "savePlotting: bool = False\n",
        "useMaxTimeStep: bool = True\n",
        "\n",
        "tag = 'bm7'\n",
        "res = '1mm'\n",
        "\n",
        "mask_filename = 'skull_mask_' + tag + '_dx_' + res + '.mat'\n",
        "\n",
        "url = 'https://raw.githubusercontent.com/djps/k-wave-python/benchmarks/examples/benchmarks/7/skull_mask_bm7_dx_1mm.mat'\n",
        "mask_filename = requests.get(url, stream=True)\n",
        "mask_filename.raw.decode_content = True\n",
        "with open(\"temp.h5\", \"wb\") as _fh:\n",
        "    shutil.copyfileobj(mask_filename.raw, _fh)\n",
        "data = h5py.File(\"temp.h5\", mode='r')\n",
        "\n",
        "# is given in millimetres\n",
        "dx = data['dx'][:].item()\n",
        "\n",
        "# scale to metres\n",
        "dx = dx / 1000.0\n",
        "dy = dx\n",
        "dz = dx\n",
        "\n",
        "xi = np.squeeze(np.asarray(data['xi'][:]))\n",
        "yi = np.squeeze(np.asarray(data['yi'][:]))\n",
        "zi = np.squeeze(np.asarray(data['zi'][:]))\n",
        "\n",
        "matlab_shape = np.shape(xi)[0], np.shape(yi)[0], np.shape(zi)[0]\n",
        "\n",
        "skull_mask = np.squeeze(data['skull_mask'][:]).astype(bool)\n",
        "brain_mask = np.squeeze(data['brain_mask'][:]).astype(bool)\n",
        "\n",
        "skull_mask = np.reshape(skull_mask.flatten(), matlab_shape, order='F')\n",
        "brain_mask = np.reshape(brain_mask.flatten(), matlab_shape, order='F')\n",
        "\n",
        "water_mask = np.ones(skull_mask.shape, dtype=int) - (skull_mask.astype(int) + brain_mask.astype(int))\n",
        "water_mask = water_mask.astype(bool)\n",
        "\n",
        "skull_mask = np.swapaxes(skull_mask, 0, 2)\n",
        "brain_mask = np.swapaxes(brain_mask, 0, 2)\n",
        "water_mask = np.swapaxes(water_mask, 0, 2)\n",
        "\n",
        "Nx, Ny, Nz = skull_mask.shape"
      ],
      "metadata": {
        "id": "eLqMa3-xhGwg"
      },
      "execution_count": null,
      "outputs": []
    },
    {
      "cell_type": "code",
      "source": [
        "# water\n",
        "sound_speed = 1500.0 * np.ones(skull_mask.shape)\n",
        "density = 1000.0 * np.ones(skull_mask.shape)\n",
        "alpha_coeff = np.zeros(skull_mask.shape)\n",
        "\n",
        "# non-dispersive\n",
        "alpha_power = 2.0\n",
        "\n",
        "# skull\n",
        "sound_speed[skull_mask] = 2800.0\n",
        "density[skull_mask] = 1850.0\n",
        "alpha_coeff[skull_mask] = 4.0\n",
        "\n",
        "# brain\n",
        "sound_speed[brain_mask] = 1560.0\n",
        "density[brain_mask] = 1040.0\n",
        "alpha_coeff[brain_mask] = 0.3\n",
        "\n",
        "c0_min = np.min(sound_speed.flatten())\n",
        "c0_max = np.min(sound_speed.flatten())\n",
        "\n",
        "medium = kWaveMedium(sound_speed=sound_speed,\n",
        "                     density=density,\n",
        "                     alpha_coeff=alpha_coeff,\n",
        "                     alpha_power=alpha_power)"
      ],
      "metadata": {
        "id": "Ojvy5GP7hRfZ"
      },
      "execution_count": null,
      "outputs": []
    },
    {
      "cell_type": "code",
      "source": [
        "# =========================================================================\n",
        "# DEFINE THE TRANSDUCER SETUP\n",
        "# =========================================================================\n",
        "\n",
        "# diameter of the disc\n",
        "diameter = 20e-3\n",
        "\n",
        "# frequency [Hz]\n",
        "freq = 500e3\n",
        "\n",
        "# source pressure [Pa]\n",
        "source_amp = np.array([60e3])\n",
        "\n",
        "# phase [rad]\n",
        "source_phase = np.array([0.0])"
      ],
      "metadata": {
        "id": "e1TvagiThYjy"
      },
      "execution_count": null,
      "outputs": []
    },
    {
      "cell_type": "code",
      "source": [
        "# =========================================================================\n",
        "# DEFINE COMPUTATIONAL PARAMETERS\n",
        "# =========================================================================\n",
        "\n",
        "# wavelength\n",
        "k_min: float = c0_min / freq\n",
        "\n",
        "# points per wavelength\n",
        "ppw: float = k_min / dx\n",
        "\n",
        "# number of periods to record\n",
        "record_periods: int = 3\n",
        "\n",
        "# compute points per period\n",
        "ppp: int = 30\n",
        "\n",
        "# CFL number determines time step\n",
        "cfl: float = (ppw / ppp)"
      ],
      "metadata": {
        "id": "WoxSptBfhZhG"
      },
      "execution_count": null,
      "outputs": []
    }
  ]
}