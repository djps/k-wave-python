{
  "nbformat": 4,
  "nbformat_minor": 0,
  "metadata": {
    "colab": {
      "provenance": [],
      "gpuType": "T4",
      "authorship_tag": "ABX9TyPch+OjmTQyqP/qfCDiDBuP",
      "include_colab_link": true
    },
    "kernelspec": {
      "name": "python3",
      "display_name": "Python 3"
    },
    "language_info": {
      "name": "python"
    },
    "accelerator": "GPU"
  },
  "cells": [
    {
      "cell_type": "markdown",
      "metadata": {
        "id": "view-in-github",
        "colab_type": "text"
      },
      "source": [
        "<a href=\"https://colab.research.google.com/github/djps/k-wave-python/blob/benchmarks/examples/benchmarks/7/ph1-bm7-sc2.ipynb\" target=\"_parent\"><img src=\"https://colab.research.google.com/assets/colab-badge.svg\" alt=\"Open In Colab\"/></a>"
      ]
    },
    {
      "cell_type": "code",
      "execution_count": null,
      "metadata": {
        "id": "MIx0Wj7lhBRi"
      },
      "outputs": [],
      "source": [
        "!pip install git+https://github.com/waltsims/k-wave-python"
      ]
    },
    {
      "cell_type": "code",
      "source": [
        "import numpy as np\n",
        "from copy import deepcopy\n",
        "import requests\n",
        "import shutil\n",
        "\n",
        "import matplotlib.pyplot as plt\n",
        "from mpl_toolkits.axes_grid1 import make_axes_locatable\n",
        "\n",
        "from matplotlib.colors import Normalize\n",
        "import matplotlib.cm as cm\n",
        "\n",
        "from cycler import cycler\n",
        "\n",
        "import h5py\n",
        "\n",
        "from skimage import measure\n",
        "from skimage.segmentation import find_boundaries\n",
        "from scipy.interpolate import interpn\n",
        "\n",
        "from kwave.data import Vector\n",
        "from kwave.utils.kwave_array import kWaveArray\n",
        "from kwave.utils.checks import check_stability\n",
        "from kwave.kgrid import kWaveGrid\n",
        "from kwave.kmedium import kWaveMedium\n",
        "from kwave.ksource import kSource\n",
        "from kwave.ksensor import kSensor\n",
        "from kwave.utils.signals import create_cw_signals\n",
        "from kwave.utils.filters import extract_amp_phase\n",
        "from kwave.kspaceFirstOrder3D import kspaceFirstOrder3DG\n",
        "\n",
        "from kwave.options.simulation_options import SimulationOptions\n",
        "from kwave.options.simulation_execution_options import SimulationExecutionOptions\n",
        "\n",
        "verbose: bool = True\n",
        "savePlotting: bool = False\n",
        "useMaxTimeStep: bool = True"
      ],
      "metadata": {
        "id": "eLqMa3-xhGwg"
      },
      "execution_count": null,
      "outputs": []
    },
    {
      "cell_type": "markdown",
      "source": [
        "Load data"
      ],
      "metadata": {
        "id": "iiB2dv3wV2bd"
      }
    },
    {
      "cell_type": "code",
      "source": [
        "tag = 'bm7'\n",
        "res = '1mm'\n",
        "\n",
        "mask_filename = 'skull_mask_' + tag + '_dx_' + res + '.mat'\n",
        "\n",
        "url = 'https://raw.githubusercontent.com/djps/k-wave-python/benchmarks/examples/benchmarks/7/skull_mask_bm7_dx_1mm.mat'\n",
        "mask_filename = requests.get(url, stream=True)\n",
        "mask_filename.raw.decode_content = True\n",
        "with open(\"temp.h5\", \"wb\") as _fh:\n",
        "    shutil.copyfileobj(mask_filename.raw, _fh)\n",
        "data = h5py.File(\"temp.h5\", mode='r')\n",
        "\n",
        "# is given in millimetres\n",
        "dx = data['dx'][:].item()\n",
        "\n",
        "# scale to metres\n",
        "dx = dx / 1000.0\n",
        "dy = dx\n",
        "dz = dx\n",
        "\n",
        "xi = np.squeeze(np.asarray(data['xi'][:]))\n",
        "yi = np.squeeze(np.asarray(data['yi'][:]))\n",
        "zi = np.squeeze(np.asarray(data['zi'][:]))\n",
        "\n",
        "matlab_shape = np.shape(xi)[0], np.shape(yi)[0], np.shape(zi)[0]\n",
        "\n",
        "skull_mask = np.squeeze(data['skull_mask'][:]).astype(bool)\n",
        "brain_mask = np.squeeze(data['brain_mask'][:]).astype(bool)\n",
        "\n",
        "skull_mask = np.reshape(skull_mask.flatten(), matlab_shape, order='F')\n",
        "brain_mask = np.reshape(brain_mask.flatten(), matlab_shape, order='F')\n",
        "\n",
        "water_mask = np.ones(skull_mask.shape, dtype=int) - (skull_mask.astype(int) + brain_mask.astype(int))\n",
        "water_mask = water_mask.astype(bool)\n",
        "\n",
        "skull_mask = np.swapaxes(skull_mask, 0, 2)\n",
        "brain_mask = np.swapaxes(brain_mask, 0, 2)\n",
        "water_mask = np.swapaxes(water_mask, 0, 2)\n",
        "\n",
        "Nx, Ny, Nz = skull_mask.shape"
      ],
      "metadata": {
        "id": "ib-BCt4UV0Y1"
      },
      "execution_count": null,
      "outputs": []
    },
    {
      "cell_type": "markdown",
      "source": [
        "Assign medium properties"
      ],
      "metadata": {
        "id": "gSFpPRzMV4gs"
      }
    },
    {
      "cell_type": "code",
      "source": [
        "# water\n",
        "sound_speed = 1500.0 * np.ones(skull_mask.shape)\n",
        "density = 1000.0 * np.ones(skull_mask.shape)\n",
        "alpha_coeff = np.zeros(skull_mask.shape)\n",
        "\n",
        "# non-dispersive\n",
        "alpha_power = 2.0\n",
        "\n",
        "# skull\n",
        "sound_speed[skull_mask] = 2800.0\n",
        "density[skull_mask] = 1850.0\n",
        "alpha_coeff[skull_mask] = 4.0\n",
        "\n",
        "# brain\n",
        "sound_speed[brain_mask] = 1560.0\n",
        "density[brain_mask] = 1040.0\n",
        "alpha_coeff[brain_mask] = 0.3\n",
        "\n",
        "c0_min = np.min(sound_speed.flatten())\n",
        "c0_max = np.min(sound_speed.flatten())\n",
        "\n",
        "medium = kWaveMedium(sound_speed=sound_speed,\n",
        "                     density=density,\n",
        "                     alpha_coeff=alpha_coeff,\n",
        "                     alpha_power=alpha_power)"
      ],
      "metadata": {
        "id": "Ojvy5GP7hRfZ"
      },
      "execution_count": null,
      "outputs": []
    },
    {
      "cell_type": "markdown",
      "source": [
        "Define the transducer\n"
      ],
      "metadata": {
        "id": "8eXxWV1BV7ZE"
      }
    },
    {
      "cell_type": "code",
      "source": [
        "# diameter of the disc\n",
        "diameter = 20e-3\n",
        "\n",
        "# frequency [Hz]\n",
        "freq = 500e3\n",
        "\n",
        "# source pressure [Pa]\n",
        "source_amp = np.array([60e3])\n",
        "\n",
        "# phase [rad]\n",
        "source_phase = np.array([0.0])"
      ],
      "metadata": {
        "id": "e1TvagiThYjy"
      },
      "execution_count": null,
      "outputs": []
    },
    {
      "cell_type": "markdown",
      "source": [
        "Define simulation parameters"
      ],
      "metadata": {
        "id": "cEtCMXKwWES2"
      }
    },
    {
      "cell_type": "code",
      "source": [
        "# wavelength\n",
        "k_min: float = c0_min / freq\n",
        "\n",
        "# points per wavelength\n",
        "ppw: float = k_min / dx\n",
        "\n",
        "# number of periods to record\n",
        "record_periods: int = 3\n",
        "\n",
        "# compute points per period\n",
        "ppp: int = 30\n",
        "\n",
        "# CFL number determines time step\n",
        "cfl: float = (ppw / ppp)"
      ],
      "metadata": {
        "id": "WoxSptBfhZhG"
      },
      "execution_count": null,
      "outputs": []
    },
    {
      "cell_type": "markdown",
      "source": [
        "Setup the grid"
      ],
      "metadata": {
        "id": "BOIrzTo_WI0_"
      }
    },
    {
      "cell_type": "code",
      "source": [
        "grid_size_points = Vector([Nx, Ny, Nz])\n",
        "\n",
        "grid_spacing_meters = Vector([dx, dy, dz])\n",
        "\n",
        "# create the k-space grid\n",
        "kgrid = kWaveGrid(grid_size_points, grid_spacing_meters)"
      ],
      "metadata": {
        "id": "2x2MU1A7h_Pw"
      },
      "execution_count": null,
      "outputs": []
    },
    {
      "cell_type": "markdown",
      "source": [
        "Define time-vector"
      ],
      "metadata": {
        "id": "LnlxMMbwWLdg"
      }
    },
    {
      "cell_type": "code",
      "source": [
        "# compute corresponding time stepping\n",
        "dt = 1.0 / (ppp * freq)\n",
        "\n",
        "# compute corresponding time stepping\n",
        "dt = (c0_min / c0_max) / (float(ppp) * freq)\n",
        "\n",
        "dt_stability_limit = check_stability(kgrid, medium)\n",
        "\n",
        "if (useMaxTimeStep and (not np.isfinite(dt_stability_limit)) and (dt_stability_limit < dt)):\n",
        "    dt_old = dt\n",
        "    ppp = np.ceil(1.0 / (dt_stability_limit * freq))\n",
        "    dt = 1.0 / (ppp * freq)\n",
        "\n",
        "# calculate the number of time steps to reach steady state\n",
        "t_end = np.sqrt(kgrid.x_size**2 + kgrid.y_size**2) / c0_min\n",
        "\n",
        "# create the time array using an integer number of points per period\n",
        "Nt = round(t_end / dt)\n",
        "\n",
        "# make time array\n",
        "kgrid.setTime(Nt, dt)\n",
        "\n",
        "# calculate the actual CFL after adjusting for dt\n",
        "cfl_actual = 1.0 / (dt * freq)"
      ],
      "metadata": {
        "id": "iE_dy15yiBgO"
      },
      "execution_count": null,
      "outputs": []
    },
    {
      "cell_type": "markdown",
      "source": [
        "Setup the source parameters"
      ],
      "metadata": {
        "id": "Nj7rwb24WO1K"
      }
    },
    {
      "cell_type": "code",
      "source": [
        "# create empty kWaveArray this specfies the transducer properties\n",
        "karray = kWaveArray(bli_tolerance=0.01,\n",
        "                    upsampling_rate=16,\n",
        "                    single_precision=True)\n",
        "\n",
        "# set disc position\n",
        "position = [kgrid.x_vec[disc_coords[2]].item(),\n",
        "            kgrid.y_vec[disc_coords[2]].item(),\n",
        "            kgrid.z_vec[disc_coords[2]].item()]\n",
        "\n",
        "# arbitrary position\n",
        "focus_pos = [kgrid.x_vec[focus_coords[0]].item(),\n",
        "             kgrid.y_vec[focus_coords[1]].item(),\n",
        "             kgrid.z_vec[focus_coords[2]].item()]\n",
        "\n",
        "# add disc-shaped planar element\n",
        "karray.add_disc_element(position, diameter, focus_pos)\n",
        "\n",
        "# create time varying source\n",
        "source_sig = create_cw_signals(np.squeeze(kgrid.t_array),\n",
        "                               freq,\n",
        "                               source_amp,\n",
        "                               source_phase)\n",
        "\n",
        "# make a source object.\n",
        "source = kSource()\n",
        "\n",
        "# assign binary mask using the karray\n",
        "source.p_mask = karray.get_array_binary_mask(kgrid)\n",
        "\n",
        "# assign source pressure output in time\n",
        "source.p = karray.get_distributed_source_signal(kgrid, source_sig)"
      ],
      "metadata": {
        "id": "a8u1eSKKiEPS"
      },
      "execution_count": null,
      "outputs": []
    },
    {
      "cell_type": "markdown",
      "source": [
        "Set the sensors"
      ],
      "metadata": {
        "id": "7m5pMOXLWVPz"
      }
    },
    {
      "cell_type": "code",
      "source": [
        "sensor = kSensor()\n",
        "\n",
        "# set sensor mask: the mask says at which points data should be recorded\n",
        "sensor.mask = np.ones((Nx, Ny, Nz), dtype=bool)\n",
        "\n",
        "# set the record type: record the pressure waveform\n",
        "sensor.record = ['p']\n",
        "\n",
        "# record the final few periods when the field is in steady state\n",
        "sensor.record_start_index = kgrid.Nt - record_periods * ppp + 1\n"
      ],
      "metadata": {
        "id": "PC40TsIoiHN2"
      },
      "execution_count": null,
      "outputs": []
    },
    {
      "cell_type": "markdown",
      "source": [
        "Setup and run the simulation"
      ],
      "metadata": {
        "id": "zh65srhDWYpR"
      }
    },
    {
      "cell_type": "code",
      "source": [
        "DATA_CAST = 'single'\n",
        "DATA_PATH = 'data/'\n",
        "\n",
        "input_filename = tag + '_' + res + '_input.h5'\n",
        "output_filename = tag + '_' + res + '_output.h5'\n",
        "\n",
        "# options for writing to file, but not doing simulations\n",
        "simulation_options = SimulationOptions(\n",
        "    data_cast=DATA_CAST,\n",
        "    data_recast=True,\n",
        "    save_to_disk=True,\n",
        "    input_filename=input_filename,\n",
        "    output_filename=output_filename,\n",
        "    save_to_disk_exit=False,\n",
        "    data_path=DATA_PATH,\n",
        "    pml_inside=False)\n",
        "\n",
        "execution_options = SimulationExecutionOptions(\n",
        "    is_gpu_simulation=True,\n",
        "    delete_data=False,\n",
        "    verbose_level=2)\n",
        "\n",
        "sensor_data = kspaceFirstOrder3DG(\n",
        "    medium=medium,\n",
        "    kgrid=kgrid,\n",
        "    source=source,\n",
        "    sensor=sensor,\n",
        "    simulation_options=simulation_options,\n",
        "    execution_options=execution_options)"
      ],
      "metadata": {
        "id": "eoJ0D_s3iOMV"
      },
      "execution_count": null,
      "outputs": []
    },
    {
      "cell_type": "markdown",
      "source": [
        "Post-processing"
      ],
      "metadata": {
        "id": "rZjseDsyWlQL"
      }
    },
    {
      "cell_type": "code",
      "source": [
        "# sampling frequency\n",
        "fs = 1.0 / kgrid.dt\n",
        "\n",
        "# get Fourier coefficients\n",
        "amp, _, _ = extract_amp_phase(sensor_data['p'].T, fs, freq, dim=1,\n",
        "                              fft_padding=1, window='Rectangular')\n",
        "\n",
        "# reshape data: matlab uses Fortran ordering\n",
        "p = np.reshape(amp, (Nx, Ny, Nz), order='F')\n",
        "pmax = np.nanmax(p)\n",
        "max_loc = np.unravel_index(np.nanargmax(p), p.shape, order='C')\n",
        "\n",
        "p_water = np.empty_like(p)\n",
        "p_water.fill(np.nan)\n",
        "p_water[water_mask] = p[water_mask]\n",
        "pmax_water = np.nanmax(p_water)\n",
        "max_loc_water = np.unravel_index(np.nanargmax(p_water), p.shape, order='C')\n",
        "\n",
        "p_skull = np.empty_like(p)\n",
        "p_skull.fill(np.nan)\n",
        "p_skull[skull_mask] = p[skull_mask]\n",
        "pmax_skull = np.nanmax(p_skull)\n",
        "max_loc_skull = np.unravel_index(np.nanargmax(p_skull), p.shape, order='C')\n",
        "\n",
        "p_brain = np.empty_like(p)\n",
        "p_brain.fill(np.nan)\n",
        "p_brain[brain_mask] = p[brain_mask]\n",
        "pmax_brain = np.nanmax(p_brain)\n",
        "max_loc_brain = np.unravel_index(np.nanargmax(p_brain), p.shape, order='C')\n",
        "\n",
        "# domain axes\n",
        "x_vec = np.linspace(kgrid.x_vec[0].item(), kgrid.x_vec[-1].item(), kgrid.Nx)\n",
        "y_vec = np.linspace(kgrid.y_vec[0].item(), kgrid.y_vec[-1].item(), kgrid.Ny)\n",
        "z_vec = np.linspace(kgrid.z_vec[0].item(), kgrid.z_vec[-1].item(), kgrid.Nz)\n",
        "\n",
        "# colours\n",
        "cycle = plt.rcParams['axes.prop_cycle'].by_key()['color']\n",
        "\n",
        "# brain axes\n",
        "# x\n",
        "x_x_brain = [kgrid.z_vec[bowl_coords[2]].item(), kgrid.z_vec[max_loc_brain[2]].item()]\n",
        "y_x_brain = [kgrid.x_vec[bowl_coords[0]].item(), kgrid.x_vec[max_loc_brain[0]].item()]\n",
        "coefficients_x_brain = np.polyfit(x_x_brain, y_x_brain, 1)\n",
        "polynomial_x_brain = np.poly1d(coefficients_x_brain)\n",
        "beam_axis_x_brain = polynomial_x_brain(z_vec)\n",
        "\n",
        "# y\n",
        "x_y_brain = [kgrid.z_vec[bowl_coords[2]].item(), kgrid.z_vec[max_loc_brain[2]].item()]\n",
        "y_y_brain = [kgrid.y_vec[bowl_coords[1]].item(), kgrid.y_vec[max_loc_brain[1]].item()]\n",
        "coefficients_y_brain = np.polyfit(x_y_brain, y_y_brain, 1)\n",
        "polynomial_y_brain = np.poly1d(coefficients_y_brain)\n",
        "beam_axis_y_brain = polynomial_y_brain(z_vec)\n",
        "\n",
        "# beam axis\n",
        "beam_axis_brain = np.vstack((beam_axis_x_brain, beam_axis_y_brain, z_vec)).T\n",
        "\n",
        "# interpolate for pressure on brain axis\n",
        "beam_pressure_brain = interpn((x_vec, y_vec, z_vec), p, beam_axis_brain,\n",
        "                              method='linear', bounds_error=False, fill_value=np.nan)\n",
        "\n",
        "# skull axes\n",
        "# x\n",
        "x_x_skull = [kgrid.z_vec[bowl_coords[2]].item(), kgrid.z_vec[max_loc_skull[2]].item()]\n",
        "y_x_skull = [kgrid.x_vec[bowl_coords[0]].item(), kgrid.x_vec[max_loc_skull[0]].item()]\n",
        "coefficients_x_skull = np.polyfit(x_x_skull, y_x_skull, 1)\n",
        "polynomial_x_skull = np.poly1d(coefficients_x_skull)\n",
        "beam_axis_x_skull = polynomial_x_skull(z_vec)\n",
        "\n",
        "# y\n",
        "x_y_skull = [kgrid.z_vec[bowl_coords[2]].item(), kgrid.z_vec[max_loc_skull[2]].item()]\n",
        "y_y_skull = [kgrid.y_vec[bowl_coords[1]].item(), kgrid.y_vec[max_loc_skull[1]].item()]\n",
        "coefficients_y_skull = np.polyfit(x_y_skull, y_y_skull, 1)\n",
        "polynomial_y_skull = np.poly1d(coefficients_y_skull)\n",
        "beam_axis_y_skull = polynomial_y_skull(z_vec)\n",
        "\n",
        "# beam axis\n",
        "beam_axis_skull = np.vstack((beam_axis_x_skull, beam_axis_y_skull, z_vec)).T\n",
        "\n",
        "# interpolate for pressure\n",
        "beam_pressure_skull = interpn((x_vec, y_vec, z_vec), p, beam_axis_skull,\n",
        "                              method='linear', bounds_error=False,\n",
        "                              fill_value=np.nan)\n",
        "\n",
        "# plot pressure on through centre lines\n",
        "fig1, ax1 = plt.subplots()\n",
        "ax1.plot(p[(Nx - 1) // 2, (Ny - 1) // 2, :] / 1e6, label='geometric')\n",
        "ax1.plot(beam_pressure_brain / 1e6, label='focal')\n",
        "ax1.plot(beam_pressure_skull / 1e6, label='skull')\n",
        "ax1.hlines(pmax_brain / 1e6, 0, len(z_vec), color=cycle[1], linestyle='dashed', lw=0.5)\n",
        "ax1.hlines(pmax_skull / 1e6, 0, len(z_vec), color=cycle[2], linestyle='dashed', lw=0.5)\n",
        "ax1.set(xlabel='Axial Position [mm]',\n",
        "        ylabel='Pressure [MPa]',\n",
        "        title='Centreline Pressures')\n",
        "ax1.legend()\n",
        "ax1.grid(True)"
      ],
      "metadata": {
        "id": "0n--X3UuiQ8z"
      },
      "execution_count": null,
      "outputs": []
    },
    {
      "cell_type": "code",
      "source": [
        "def get_edges(mask, fill_with_nan=True):\n",
        "    \"\"\"returns the mask as a float array and Np.NaN\"\"\"\n",
        "    edges = find_boundaries(mask, mode='thin').astype(np.float32)\n",
        "    if fill_with_nan:\n",
        "        edges[edges == 0] = np.nan\n",
        "    return edges\n",
        "\n",
        "# contouring block\n",
        "edges_x = get_edges(np.transpose(skull_mask[max_loc_brain[0], :, :]).astype(int),\n",
        "                    fill_with_nan=False)\n",
        "edges_y = get_edges(np.transpose(skull_mask[:, max_loc_brain[1], :]).astype(int),\n",
        "                    fill_with_nan=False)\n",
        "edges_z = get_edges(np.transpose(skull_mask[:, :, max_loc_brain[2]]).astype(int),\n",
        "                    fill_with_nan=False)\n",
        "\n",
        "contour_x, num_x = measure.label(edges_x, background=0, return_num=True, connectivity=2)\n",
        "contour_y, num_y = measure.label(edges_y, background=0, return_num=True, connectivity=2)\n",
        "contour_z, num_z = measure.label(edges_z, background=0, return_num=True, connectivity=2)\n",
        "\n",
        "jmax = 0\n",
        "jmin = Ny\n",
        "i_inner = None\n",
        "i_outer = None\n",
        "for i in range(num_x):\n",
        "    j = np.argmax(np.where(contour_x[:, Nz // 2] == (i + 1), 1, 0))\n",
        "    if (j > jmax):\n",
        "        jmax = j\n",
        "        i_outer = i + 1\n",
        "    k = np.argmin(np.where(contour_x[:, Nz // 2] == (i + 1), 0, 1))\n",
        "    if (k < jmin):\n",
        "        jmin = k\n",
        "        i_inner = i + 1\n",
        "contours_x_inner = measure.find_contours(np.where(contour_x == i_inner, 1, 0))\n",
        "if not contours_x_inner:\n",
        "    print(\"size of contours_x_inner is zero\")\n",
        "\n",
        "contours_x_outer = measure.find_contours(np.where(contour_x == i_outer, 1, 0))\n",
        "if not contours_x_outer:\n",
        "   print(\"size of contours_x_outer is zero\")\n",
        "\n",
        "inner_index_x = float(Ny)\n",
        "outer_index_x = float(0)\n",
        "for i in range(len(contours_x_inner)):\n",
        "    x_min = np.min(contours_x_inner[i][:, 1])\n",
        "    if (x_min < inner_index_x):\n",
        "        inner_index_x = i\n",
        "for i in range(len(contours_x_outer)):\n",
        "    x_max = np.max(contours_x_outer[i][:, 1])\n",
        "    if (x_max > outer_index_x):\n",
        "        outer_index_x = i\n",
        "\n",
        "jmax = 0\n",
        "jmin = Nx\n",
        "i_inner = None\n",
        "i_outer = None\n",
        "for i in range(num_y):\n",
        "    j = np.argmax(np.where(contour_y[:, Nz // 2] == (i + 1), 1, 0))\n",
        "    if (j > jmax):\n",
        "        jmax = j\n",
        "        i_outer = i + 1\n",
        "    k = np.argmin(np.where(contour_y[:, Nz // 2] == (i + 1), 0, 1))\n",
        "    if (k < jmin):\n",
        "        jmin = k\n",
        "        i_inner = i + 1\n",
        "contours_y_inner = measure.find_contours(np.where(contour_y == i_inner, 1, 0))\n",
        "if not contours_y_inner:\n",
        "    print(\"size of contours_y_inner is zero\")\n",
        "contours_y_outer = measure.find_contours(np.where(contour_y == i_outer, 1, 0))\n",
        "if not contours_y_outer:\n",
        "    print(\"size of contours_y_outer is zero\")\n",
        "inner_index_y = float(Nx)\n",
        "outer_index_y = float(0)\n",
        "for i in range(len(contours_y_inner)):\n",
        "    y_min = np.min(contours_y_inner[i][:, 1])\n",
        "    if (y_min < inner_index_y):\n",
        "        inner_index_y = i\n",
        "for i in range(len(contours_y_outer)):\n",
        "    y_max = np.max(contours_y_outer[i][:, 1])\n",
        "    if (y_max > outer_index_y):\n",
        "        outer_index_y = i\n",
        "\n",
        "jmax = 0\n",
        "jmin = Ny\n",
        "i_inner = None\n",
        "i_outer = None\n",
        "for i in range(num_z):\n",
        "    j = np.argmax(np.where(contour_z[:, Nx // 2] == (i + 1), 1, 0))\n",
        "    if (j > jmax):\n",
        "        jmax = j\n",
        "        i_outer = i + 1\n",
        "    k = np.argmin(np.where(contour_z[:, Nx // 2] == (i + 1), 0, 1))\n",
        "    if (k < jmin):\n",
        "        jmin = k\n",
        "        i_inner = i + 1\n",
        "\n",
        "contours_z_inner = measure.find_contours(np.where(contour_z == i_inner, 1, 0))\n",
        "if not contours_z_inner:\n",
        "    pass\n",
        "else:\n",
        "    inner_index_z = float(Nx)\n",
        "    for i in range(len(contours_z_inner)):\n",
        "        z_min = np.min(contours_z_inner[i][:, 1])\n",
        "        if (z_min < inner_index_z):\n",
        "            inner_index_z = i\n",
        "\n",
        "contours_z_outer = measure.find_contours(np.where(contour_z == i_outer, 1, 0))\n",
        "if not contours_z_outer:\n",
        "    pass\n",
        "else:\n",
        "    outer_index_z = float(0)\n",
        "    for i in range(len(contours_z_outer)):\n",
        "        z_max = np.max(contours_z_outer[i][:, 1])\n",
        "        if (z_max > outer_index_z):\n",
        "            outer_index_z = i\n",
        "\n",
        "# end of contouring block\n",
        "edges_x = get_edges(np.transpose(skull_mask[max_loc_brain[0], :, :]).astype(int))\n",
        "edges_y = get_edges(np.transpose(skull_mask[:, max_loc_brain[1], :]).astype(int))\n",
        "edges_z = get_edges(np.transpose(skull_mask[:, :, max_loc_brain[2]]).astype(int))\n",
        "\n",
        "# plot the pressure field at mid point along z axis\n",
        "fig2, ax2 = plt.subplots()\n",
        "im2 = ax2.pcolormesh(x_vec, y_vec, p[:, :, max_loc_brain[2]] / 1e6,\n",
        "                 shading='gouraud',\n",
        "                 cmap='viridis')\n",
        "\n",
        "if not contours_z_inner:\n",
        "    ax2.pcolormesh(x_vec, y_vec, edges_z, shading='gouraud',\n",
        "               cmap='Greys')\n",
        "else:\n",
        "    ax2.plot(contours_z_inner[inner_index_z][:, 1],\n",
        "             contours_z_inner[inner_index_z][:, 0], 'w', linewidth=0.5)\n",
        "if not contours_z_outer:\n",
        "    pass\n",
        "else:\n",
        "    ax2.plot(contours_z_outer[outer_index_z][:, 1],\n",
        "             contours_z_outer[outer_index_z][:, 0], 'w', linewidth=0.5)\n",
        "#\n",
        "ax2.set(xlabel=r'$x$ [mm]',\n",
        "        ylabel=r'$y$ [mm]',\n",
        "        title='Pressure Field')\n",
        "ax2.grid(False)\n",
        "divider2 = make_axes_locatable(ax2)\n",
        "cax2 = divider2.append_axes(\"right\", size=\"5%\", pad=0.05)\n",
        "cbar_2 = fig2.colorbar(im2, cax=cax2)\n",
        "cbar_2.ax.set_title('[MPa]', fontsize='small')"
      ],
      "metadata": {
        "id": "ZvrJDRhJiXKg"
      },
      "execution_count": null,
      "outputs": []
    },
    {
      "cell_type": "code",
      "source": [
        "fig3, (ax3a, ax3b) = plt.subplots(1, 2)\n",
        "im3a = ax3a.pcolormesh(y_vec, z_vec, p[max_loc_brain[0], :, :].T / 1e6,\n",
        "                       shading='gouraud', cmap='viridis')\n",
        "\n",
        "ax3a.plot(beam_axis_y_skull, z_vec, 'w--', lw=0.5)\n",
        "ax3a.plot(beam_axis_y_brain, z_vec, 'w--', lw=0.5)\n",
        "\n",
        "# reversed and new underscore\n",
        "ax3a.scatter(y_y_skull, x_y_skull, c='w', marker='o', edgecolors='none', alpha=0.5)\n",
        "ax3a.scatter(y_y_brain, x_y_brain, c='w', marker='+', alpha=0.5)\n",
        "\n",
        "# ------------------------------------------------------------------------------\n",
        "ax3a.plot(contours_x_inner[outer_index_x][:, 1] * kgrid.dy + kgrid.y_vec[0],\n",
        "          contours_x_inner[outer_index_x][:, 0] * kgrid.dz + kgrid.z_vec[0],\n",
        "          'w', linewidth=0.5)\n",
        "ax3a.plot(contours_x_outer[inner_index_x][:, 1] * kgrid.dy + kgrid.y_vec[0],\n",
        "          contours_x_outer[inner_index_x][:, 0] * kgrid.dz + kgrid.z_vec[0],\n",
        "          'w', linewidth=0.5)\n",
        "# ------------------------------------------------------------------------------\n",
        "ax3a.grid(False)\n",
        "ax3a.axes.get_yaxis().set_visible(False)\n",
        "ax3a.axes.get_xaxis().set_visible(False)\n",
        "divider3a = make_axes_locatable(ax3a)\n",
        "cax3a = divider3a.append_axes(\"right\", size=\"5%\", pad=0.05)\n",
        "cbar_3a = fig3.colorbar(im3a, cax=cax3a)\n",
        "cbar_3a.ax.set_title('[MPa]', fontsize='small')\n",
        "\n",
        "ax3a.invert_yaxis()\n",
        "\n",
        "im3b = ax3b.pcolormesh(x_vec, z_vec, p[:, max_loc_brain[1], :].T / 1e6,\n",
        "                       shading='gouraud', cmap='viridis')\n",
        "\n",
        "# ------------------------------------------------------------------------------\n",
        "ax3b.plot(contours_y_inner[inner_index_y][:, 1] * kgrid.dx + kgrid.x_vec[0],\n",
        "          contours_y_inner[inner_index_y][:, 0] * kgrid.dz + kgrid.z_vec[0],\n",
        "          'w', linewidth=0.5)\n",
        "ax3b.plot(contours_y_outer[outer_index_y][:, 1] * kgrid.dx + kgrid.x_vec[0],\n",
        "          contours_y_outer[outer_index_y][:, 0] * kgrid.dz + kgrid.z_vec[0],\n",
        "          'w', linewidth=0.5)\n",
        "\n",
        "ax3b.plot(beam_axis_x_skull, z_vec, 'w--', lw=0.5)\n",
        "ax3b.plot(beam_axis_x_brain, z_vec, 'w--', lw=0.5)\n",
        "ax3b.scatter(y_x_skull, x_x_skull, c='w', marker='o', edgecolors='none', alpha=0.5)\n",
        "ax3b.scatter(y_x_brain, x_x_brain, c='w', marker='+', alpha=0.5)\n",
        "\n",
        "# ------------------------------------------------------------------------------\n",
        "ax3b.grid(False)\n",
        "ax3b.axes.get_yaxis().set_visible(False)\n",
        "ax3b.axes.get_xaxis().set_visible(False)\n",
        "divider3b = make_axes_locatable(ax3b)\n",
        "cax3b = divider3b.append_axes(\"right\", size=\"5%\", pad=0.05)\n",
        "cbar_3b = fig3.colorbar(im3b, cax=cax3b)\n",
        "cbar_3b.ax.set_title('[MPa]', fontdict={'fontsize': 8})\n",
        "ax3b.invert_yaxis()"
      ],
      "metadata": {
        "id": "cADW_Na2id87"
      },
      "execution_count": null,
      "outputs": []
    }
  ]
}